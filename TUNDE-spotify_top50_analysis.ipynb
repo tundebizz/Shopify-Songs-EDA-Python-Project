{
 "cells": [
  {
   "cell_type": "markdown",
   "id": "8824d127",
   "metadata": {
    "id": "8824d127"
   },
   "source": [
    "# Spotify Top 50 Songs of 2019"
   ]
  },
  {
   "cell_type": "markdown",
   "id": "6d6dd9cd",
   "metadata": {
    "id": "6d6dd9cd"
   },
   "source": [
    "#### Data Collection:\n",
    "\n",
    "This Dataset was collected from Kaggle.com\n",
    "\n",
    "- Link: https://www.kaggle.com/leonardopena/top50spotify2019\n",
    "\n",
    "Additional info:\n",
    "\n",
    "- Check the data extracted by year: https://www.kaggle.com/leonardopena/top-spotify-songs-from-20102019-by-year\n",
    "- And by country: https://www.kaggle.com/leonardopena/top-50-spotify-songs-by-each-country\n",
    "\n",
    "\n",
    "#### Context\n",
    "\n",
    "- The top 50 most listened songs in the world on spotify in 2019. This dataset has several variables about the songs.\n",
    "\n",
    "\n",
    "#### Content\n",
    "\n",
    "- 50 songs\n",
    "- 13 variables\n",
    "\n",
    "#### Content Variables\n",
    "\n",
    "1. Track.Name - Name of the Track\n",
    "2. Artist.Name - Name of the Artist\n",
    "3. Genre - The genre of the track\n",
    "4. Beats.Per.Minute - The tempo of the song\n",
    "5. Energy - The energy of a song: The higher the value, the more energtic the song\n",
    "6. Danceability - The higher the value, the easier it is to dance to this song\n",
    "7. Loudness..dB.. - The higher the value, the louder the song\n",
    "8. Liveness - The higher the value, the more likely the song is a live recording\n",
    "9. Valence - The higher the value, the more positive mood for the song\n",
    "10. Length - The duration of the song (seconds)\n",
    "11. Acousticness - The higher the value the more acoustic the song is\n",
    "12. Speechiness - The higher the value the more spoken word the song contains\n",
    "13. Popularity - The higher the value the more popular the song is\n",
    "\n",
    "\n",
    "#### Exploratory Questions\n",
    "\n",
    "1. Most popular Song of 2019? (Top 5 Tracks)\n",
    "2. Most popular Artists of 2019? (Top 5 Artists)\n",
    "3. Most featured Artist in Top 50? (Top Artist)\n",
    "4. Top genres? (Top Genres)"
   ]
  },
  {
   "cell_type": "markdown",
   "id": "b7e04bf3",
   "metadata": {
    "id": "b7e04bf3"
   },
   "source": [
    "### 1 IMPORTING LIBRARIES"
   ]
  },
  {
   "cell_type": "markdown",
   "id": "052d97c1",
   "metadata": {
    "id": "052d97c1"
   },
   "source": [
    "LIBRARIES:\n",
    "\n",
    "-  **pandas** required to ...\n",
    "-  **numpy** required to ...\n",
    "-  **matplotlib** required to ..."
   ]
  },
  {
   "cell_type": "code",
   "execution_count": 22,
   "id": "ebbba201",
   "metadata": {
    "ExecuteTime": {
     "end_time": "2021-08-04T18:48:39.675179Z",
     "start_time": "2021-08-04T18:48:39.670174Z"
    },
    "id": "ebbba201"
   },
   "outputs": [],
   "source": [
    "import pandas as pd\n",
    "import numpy as np\n",
    "import matplotlib.pyplot as plt"
   ]
  },
  {
   "cell_type": "markdown",
   "id": "6b18d2fa",
   "metadata": {
    "id": "6b18d2fa"
   },
   "source": [
    "### 2 DATA DESCRIPTION AND DATA CLEANING"
   ]
  },
  {
   "cell_type": "markdown",
   "id": "ee833186",
   "metadata": {
    "id": "ee833186"
   },
   "source": [
    "### 2.1 Data Types"
   ]
  },
  {
   "cell_type": "markdown",
   "id": "66cc83d6",
   "metadata": {
    "id": "66cc83d6"
   },
   "source": [
    "In this block, exploratory data analysis will be carried out, data types and also the relationship between variables will be described."
   ]
  },
  {
   "cell_type": "code",
   "execution_count": 7,
   "id": "245c2a41",
   "metadata": {
    "ExecuteTime": {
     "end_time": "2021-08-04T17:17:09.163739Z",
     "start_time": "2021-08-04T17:17:09.158144Z"
    },
    "id": "245c2a41"
   },
   "outputs": [],
   "source": [
    "# Loading datadataset\n",
    "\n",
    "songs = pd.read_csv('data/top50.csv')\n",
    "\n"
   ]
  },
  {
   "cell_type": "code",
   "execution_count": 8,
   "id": "efecca19",
   "metadata": {
    "ExecuteTime": {
     "end_time": "2021-08-04T17:17:14.262550Z",
     "start_time": "2021-08-04T17:17:14.252593Z"
    },
    "id": "efecca19",
    "outputId": "a89d3ac1-02b3-4f5f-ed8a-27e73ca79a84"
   },
   "outputs": [
    {
     "name": "stdout",
     "output_type": "stream",
     "text": [
      "<class 'pandas.core.frame.DataFrame'>\n",
      "RangeIndex: 50 entries, 0 to 49\n",
      "Data columns (total 14 columns):\n",
      " #   Column            Non-Null Count  Dtype \n",
      "---  ------            --------------  ----- \n",
      " 0   Unnamed: 0        50 non-null     int64 \n",
      " 1   Track.Name        50 non-null     object\n",
      " 2   Artist.Name       50 non-null     object\n",
      " 3   Genre             50 non-null     object\n",
      " 4   Beats.Per.Minute  50 non-null     int64 \n",
      " 5   Energy            50 non-null     int64 \n",
      " 6   Danceability      50 non-null     int64 \n",
      " 7   Loudness..dB..    50 non-null     int64 \n",
      " 8   Liveness          50 non-null     int64 \n",
      " 9   Valence.          50 non-null     int64 \n",
      " 10  Length.           50 non-null     int64 \n",
      " 11  Acousticness..    50 non-null     int64 \n",
      " 12  Speechiness.      50 non-null     int64 \n",
      " 13  Popularity        50 non-null     int64 \n",
      "dtypes: int64(11), object(3)\n",
      "memory usage: 5.6+ KB\n"
     ]
    }
   ],
   "source": [
    "# Overview of Dataset information and data types\n",
    "songs.info()\n"
   ]
  },
  {
   "cell_type": "code",
   "execution_count": 9,
   "id": "10ef5a72",
   "metadata": {
    "ExecuteTime": {
     "end_time": "2021-08-04T17:17:16.628588Z",
     "start_time": "2021-08-04T17:17:16.594159Z"
    },
    "id": "10ef5a72",
    "outputId": "4ec93fbd-3e5e-4b5a-c186-f97a357d1221"
   },
   "outputs": [
    {
     "data": {
      "text/html": [
       "<div>\n",
       "<style scoped>\n",
       "    .dataframe tbody tr th:only-of-type {\n",
       "        vertical-align: middle;\n",
       "    }\n",
       "\n",
       "    .dataframe tbody tr th {\n",
       "        vertical-align: top;\n",
       "    }\n",
       "\n",
       "    .dataframe thead th {\n",
       "        text-align: right;\n",
       "    }\n",
       "</style>\n",
       "<table border=\"1\" class=\"dataframe\">\n",
       "  <thead>\n",
       "    <tr style=\"text-align: right;\">\n",
       "      <th></th>\n",
       "      <th>Unnamed: 0</th>\n",
       "      <th>Beats.Per.Minute</th>\n",
       "      <th>Energy</th>\n",
       "      <th>Danceability</th>\n",
       "      <th>Loudness..dB..</th>\n",
       "      <th>Liveness</th>\n",
       "      <th>Valence.</th>\n",
       "      <th>Length.</th>\n",
       "      <th>Acousticness..</th>\n",
       "      <th>Speechiness.</th>\n",
       "      <th>Popularity</th>\n",
       "    </tr>\n",
       "  </thead>\n",
       "  <tbody>\n",
       "    <tr>\n",
       "      <th>count</th>\n",
       "      <td>50.00000</td>\n",
       "      <td>50.000000</td>\n",
       "      <td>50.000000</td>\n",
       "      <td>50.00000</td>\n",
       "      <td>50.000000</td>\n",
       "      <td>50.000000</td>\n",
       "      <td>50.000000</td>\n",
       "      <td>50.000000</td>\n",
       "      <td>50.000000</td>\n",
       "      <td>50.000000</td>\n",
       "      <td>50.000000</td>\n",
       "    </tr>\n",
       "    <tr>\n",
       "      <th>mean</th>\n",
       "      <td>25.50000</td>\n",
       "      <td>120.060000</td>\n",
       "      <td>64.060000</td>\n",
       "      <td>71.38000</td>\n",
       "      <td>-5.660000</td>\n",
       "      <td>14.660000</td>\n",
       "      <td>54.600000</td>\n",
       "      <td>200.960000</td>\n",
       "      <td>22.160000</td>\n",
       "      <td>12.480000</td>\n",
       "      <td>87.500000</td>\n",
       "    </tr>\n",
       "    <tr>\n",
       "      <th>std</th>\n",
       "      <td>14.57738</td>\n",
       "      <td>30.898392</td>\n",
       "      <td>14.231913</td>\n",
       "      <td>11.92988</td>\n",
       "      <td>2.056448</td>\n",
       "      <td>11.118306</td>\n",
       "      <td>22.336024</td>\n",
       "      <td>39.143879</td>\n",
       "      <td>18.995553</td>\n",
       "      <td>11.161596</td>\n",
       "      <td>4.491489</td>\n",
       "    </tr>\n",
       "    <tr>\n",
       "      <th>min</th>\n",
       "      <td>1.00000</td>\n",
       "      <td>85.000000</td>\n",
       "      <td>32.000000</td>\n",
       "      <td>29.00000</td>\n",
       "      <td>-11.000000</td>\n",
       "      <td>5.000000</td>\n",
       "      <td>10.000000</td>\n",
       "      <td>115.000000</td>\n",
       "      <td>1.000000</td>\n",
       "      <td>3.000000</td>\n",
       "      <td>70.000000</td>\n",
       "    </tr>\n",
       "    <tr>\n",
       "      <th>25%</th>\n",
       "      <td>13.25000</td>\n",
       "      <td>96.000000</td>\n",
       "      <td>55.250000</td>\n",
       "      <td>67.00000</td>\n",
       "      <td>-6.750000</td>\n",
       "      <td>8.000000</td>\n",
       "      <td>38.250000</td>\n",
       "      <td>176.750000</td>\n",
       "      <td>8.250000</td>\n",
       "      <td>5.000000</td>\n",
       "      <td>86.000000</td>\n",
       "    </tr>\n",
       "    <tr>\n",
       "      <th>50%</th>\n",
       "      <td>25.50000</td>\n",
       "      <td>104.500000</td>\n",
       "      <td>66.500000</td>\n",
       "      <td>73.50000</td>\n",
       "      <td>-6.000000</td>\n",
       "      <td>11.000000</td>\n",
       "      <td>55.500000</td>\n",
       "      <td>198.000000</td>\n",
       "      <td>15.000000</td>\n",
       "      <td>7.000000</td>\n",
       "      <td>88.000000</td>\n",
       "    </tr>\n",
       "    <tr>\n",
       "      <th>75%</th>\n",
       "      <td>37.75000</td>\n",
       "      <td>137.500000</td>\n",
       "      <td>74.750000</td>\n",
       "      <td>79.75000</td>\n",
       "      <td>-4.000000</td>\n",
       "      <td>15.750000</td>\n",
       "      <td>69.500000</td>\n",
       "      <td>217.500000</td>\n",
       "      <td>33.750000</td>\n",
       "      <td>15.000000</td>\n",
       "      <td>90.750000</td>\n",
       "    </tr>\n",
       "    <tr>\n",
       "      <th>max</th>\n",
       "      <td>50.00000</td>\n",
       "      <td>190.000000</td>\n",
       "      <td>88.000000</td>\n",
       "      <td>90.00000</td>\n",
       "      <td>-2.000000</td>\n",
       "      <td>58.000000</td>\n",
       "      <td>95.000000</td>\n",
       "      <td>309.000000</td>\n",
       "      <td>75.000000</td>\n",
       "      <td>46.000000</td>\n",
       "      <td>95.000000</td>\n",
       "    </tr>\n",
       "  </tbody>\n",
       "</table>\n",
       "</div>"
      ],
      "text/plain": [
       "       Unnamed: 0  Beats.Per.Minute     Energy  Danceability  Loudness..dB..  \\\n",
       "count    50.00000         50.000000  50.000000      50.00000       50.000000   \n",
       "mean     25.50000        120.060000  64.060000      71.38000       -5.660000   \n",
       "std      14.57738         30.898392  14.231913      11.92988        2.056448   \n",
       "min       1.00000         85.000000  32.000000      29.00000      -11.000000   \n",
       "25%      13.25000         96.000000  55.250000      67.00000       -6.750000   \n",
       "50%      25.50000        104.500000  66.500000      73.50000       -6.000000   \n",
       "75%      37.75000        137.500000  74.750000      79.75000       -4.000000   \n",
       "max      50.00000        190.000000  88.000000      90.00000       -2.000000   \n",
       "\n",
       "        Liveness   Valence.     Length.  Acousticness..  Speechiness.  \\\n",
       "count  50.000000  50.000000   50.000000       50.000000     50.000000   \n",
       "mean   14.660000  54.600000  200.960000       22.160000     12.480000   \n",
       "std    11.118306  22.336024   39.143879       18.995553     11.161596   \n",
       "min     5.000000  10.000000  115.000000        1.000000      3.000000   \n",
       "25%     8.000000  38.250000  176.750000        8.250000      5.000000   \n",
       "50%    11.000000  55.500000  198.000000       15.000000      7.000000   \n",
       "75%    15.750000  69.500000  217.500000       33.750000     15.000000   \n",
       "max    58.000000  95.000000  309.000000       75.000000     46.000000   \n",
       "\n",
       "       Popularity  \n",
       "count   50.000000  \n",
       "mean    87.500000  \n",
       "std      4.491489  \n",
       "min     70.000000  \n",
       "25%     86.000000  \n",
       "50%     88.000000  \n",
       "75%     90.750000  \n",
       "max     95.000000  "
      ]
     },
     "execution_count": 9,
     "metadata": {},
     "output_type": "execute_result"
    }
   ],
   "source": [
    "# Overview of Dataset statistical properties\n",
    "songs.describe()\n"
   ]
  },
  {
   "cell_type": "markdown",
   "id": "5abd404c",
   "metadata": {
    "id": "5abd404c"
   },
   "source": [
    "### Dataset summary:"
   ]
  },
  {
   "cell_type": "code",
   "execution_count": 10,
   "id": "9a6de246",
   "metadata": {
    "ExecuteTime": {
     "end_time": "2021-08-04T17:17:20.634215Z",
     "start_time": "2021-08-04T17:17:20.622752Z"
    },
    "id": "9a6de246",
    "outputId": "da480562-8edc-490e-e5fb-65d33c1551aa"
   },
   "outputs": [
    {
     "data": {
      "text/html": [
       "<div>\n",
       "<style scoped>\n",
       "    .dataframe tbody tr th:only-of-type {\n",
       "        vertical-align: middle;\n",
       "    }\n",
       "\n",
       "    .dataframe tbody tr th {\n",
       "        vertical-align: top;\n",
       "    }\n",
       "\n",
       "    .dataframe thead th {\n",
       "        text-align: right;\n",
       "    }\n",
       "</style>\n",
       "<table border=\"1\" class=\"dataframe\">\n",
       "  <thead>\n",
       "    <tr style=\"text-align: right;\">\n",
       "      <th></th>\n",
       "      <th>Unnamed: 0</th>\n",
       "      <th>Track.Name</th>\n",
       "      <th>Artist.Name</th>\n",
       "      <th>Genre</th>\n",
       "      <th>Beats.Per.Minute</th>\n",
       "      <th>Energy</th>\n",
       "      <th>Danceability</th>\n",
       "      <th>Loudness..dB..</th>\n",
       "      <th>Liveness</th>\n",
       "      <th>Valence.</th>\n",
       "      <th>Length.</th>\n",
       "      <th>Acousticness..</th>\n",
       "      <th>Speechiness.</th>\n",
       "      <th>Popularity</th>\n",
       "    </tr>\n",
       "  </thead>\n",
       "  <tbody>\n",
       "    <tr>\n",
       "      <th>0</th>\n",
       "      <td>1</td>\n",
       "      <td>Se�orita</td>\n",
       "      <td>Shawn Mendes</td>\n",
       "      <td>canadian pop</td>\n",
       "      <td>117</td>\n",
       "      <td>55</td>\n",
       "      <td>76</td>\n",
       "      <td>-6</td>\n",
       "      <td>8</td>\n",
       "      <td>75</td>\n",
       "      <td>191</td>\n",
       "      <td>4</td>\n",
       "      <td>3</td>\n",
       "      <td>79</td>\n",
       "    </tr>\n",
       "    <tr>\n",
       "      <th>1</th>\n",
       "      <td>2</td>\n",
       "      <td>China</td>\n",
       "      <td>Anuel AA</td>\n",
       "      <td>reggaeton flow</td>\n",
       "      <td>105</td>\n",
       "      <td>81</td>\n",
       "      <td>79</td>\n",
       "      <td>-4</td>\n",
       "      <td>8</td>\n",
       "      <td>61</td>\n",
       "      <td>302</td>\n",
       "      <td>8</td>\n",
       "      <td>9</td>\n",
       "      <td>92</td>\n",
       "    </tr>\n",
       "    <tr>\n",
       "      <th>2</th>\n",
       "      <td>3</td>\n",
       "      <td>boyfriend (with Social House)</td>\n",
       "      <td>Ariana Grande</td>\n",
       "      <td>dance pop</td>\n",
       "      <td>190</td>\n",
       "      <td>80</td>\n",
       "      <td>40</td>\n",
       "      <td>-4</td>\n",
       "      <td>16</td>\n",
       "      <td>70</td>\n",
       "      <td>186</td>\n",
       "      <td>12</td>\n",
       "      <td>46</td>\n",
       "      <td>85</td>\n",
       "    </tr>\n",
       "    <tr>\n",
       "      <th>3</th>\n",
       "      <td>4</td>\n",
       "      <td>Beautiful People (feat. Khalid)</td>\n",
       "      <td>Ed Sheeran</td>\n",
       "      <td>pop</td>\n",
       "      <td>93</td>\n",
       "      <td>65</td>\n",
       "      <td>64</td>\n",
       "      <td>-8</td>\n",
       "      <td>8</td>\n",
       "      <td>55</td>\n",
       "      <td>198</td>\n",
       "      <td>12</td>\n",
       "      <td>19</td>\n",
       "      <td>86</td>\n",
       "    </tr>\n",
       "    <tr>\n",
       "      <th>4</th>\n",
       "      <td>5</td>\n",
       "      <td>Goodbyes (Feat. Young Thug)</td>\n",
       "      <td>Post Malone</td>\n",
       "      <td>dfw rap</td>\n",
       "      <td>150</td>\n",
       "      <td>65</td>\n",
       "      <td>58</td>\n",
       "      <td>-4</td>\n",
       "      <td>11</td>\n",
       "      <td>18</td>\n",
       "      <td>175</td>\n",
       "      <td>45</td>\n",
       "      <td>7</td>\n",
       "      <td>94</td>\n",
       "    </tr>\n",
       "  </tbody>\n",
       "</table>\n",
       "</div>"
      ],
      "text/plain": [
       "   Unnamed: 0                       Track.Name    Artist.Name           Genre  \\\n",
       "0           1                         Se�orita   Shawn Mendes    canadian pop   \n",
       "1           2                            China       Anuel AA  reggaeton flow   \n",
       "2           3    boyfriend (with Social House)  Ariana Grande       dance pop   \n",
       "3           4  Beautiful People (feat. Khalid)     Ed Sheeran             pop   \n",
       "4           5      Goodbyes (Feat. Young Thug)    Post Malone         dfw rap   \n",
       "\n",
       "   Beats.Per.Minute  Energy  Danceability  Loudness..dB..  Liveness  Valence.  \\\n",
       "0               117      55            76              -6         8        75   \n",
       "1               105      81            79              -4         8        61   \n",
       "2               190      80            40              -4        16        70   \n",
       "3                93      65            64              -8         8        55   \n",
       "4               150      65            58              -4        11        18   \n",
       "\n",
       "   Length.  Acousticness..  Speechiness.  Popularity  \n",
       "0      191               4             3          79  \n",
       "1      302               8             9          92  \n",
       "2      186              12            46          85  \n",
       "3      198              12            19          86  \n",
       "4      175              45             7          94  "
      ]
     },
     "execution_count": 10,
     "metadata": {},
     "output_type": "execute_result"
    }
   ],
   "source": [
    "# Visual Display of the first 5 lines of the dataset\n",
    "\n",
    "songs.head()"
   ]
  },
  {
   "cell_type": "markdown",
   "id": "0821bb42",
   "metadata": {
    "id": "0821bb42"
   },
   "source": [
    "### 2.2 Data Cleaning"
   ]
  },
  {
   "cell_type": "markdown",
   "id": "6f8daa6d",
   "metadata": {
    "id": "6f8daa6d"
   },
   "source": [
    "#### List data issues:\n",
    "..."
   ]
  },
  {
   "cell_type": "code",
   "execution_count": 11,
   "id": "0d95d33c",
   "metadata": {
    "id": "0d95d33c"
   },
   "outputs": [],
   "source": [
    "# fix data issues\n",
    "#1. Adding the encoding\n",
    "songs = pd.read_csv('data/top50.csv', encoding = 'ISO-8859-1')\n",
    "\n"
   ]
  },
  {
   "cell_type": "code",
   "execution_count": 20,
   "id": "fe43d46f",
   "metadata": {},
   "outputs": [],
   "source": [
    "#1. Renaming coulumn 'unamed' to 'Trackingn-number'\n",
    "songs.rename(columns={'Unnamed: 0': 'Track.Number'}, inplace=True)\n"
   ]
  },
  {
   "cell_type": "code",
   "execution_count": 131,
   "id": "2541a2af",
   "metadata": {},
   "outputs": [
    {
     "data": {
      "text/html": [
       "<div>\n",
       "<style scoped>\n",
       "    .dataframe tbody tr th:only-of-type {\n",
       "        vertical-align: middle;\n",
       "    }\n",
       "\n",
       "    .dataframe tbody tr th {\n",
       "        vertical-align: top;\n",
       "    }\n",
       "\n",
       "    .dataframe thead th {\n",
       "        text-align: right;\n",
       "    }\n",
       "</style>\n",
       "<table border=\"1\" class=\"dataframe\">\n",
       "  <thead>\n",
       "    <tr style=\"text-align: right;\">\n",
       "      <th></th>\n",
       "      <th>Track.Number</th>\n",
       "      <th>Track.Name</th>\n",
       "      <th>Artist.Name</th>\n",
       "      <th>Genre</th>\n",
       "      <th>Beats.Per.Minute</th>\n",
       "      <th>Energy</th>\n",
       "      <th>Danceability</th>\n",
       "      <th>Loudness..dB..</th>\n",
       "      <th>Liveness</th>\n",
       "      <th>Valence.</th>\n",
       "      <th>Length.</th>\n",
       "      <th>Acousticness..</th>\n",
       "      <th>Speechiness.</th>\n",
       "      <th>Popularity</th>\n",
       "    </tr>\n",
       "  </thead>\n",
       "  <tbody>\n",
       "    <tr>\n",
       "      <th>0</th>\n",
       "      <td>1</td>\n",
       "      <td>Señorita</td>\n",
       "      <td>Shawn Mendes</td>\n",
       "      <td>canadian pop</td>\n",
       "      <td>117</td>\n",
       "      <td>55</td>\n",
       "      <td>76</td>\n",
       "      <td>-6</td>\n",
       "      <td>8</td>\n",
       "      <td>75</td>\n",
       "      <td>191</td>\n",
       "      <td>4</td>\n",
       "      <td>3</td>\n",
       "      <td>79</td>\n",
       "    </tr>\n",
       "    <tr>\n",
       "      <th>1</th>\n",
       "      <td>2</td>\n",
       "      <td>China</td>\n",
       "      <td>Anuel AA</td>\n",
       "      <td>reggaeton flow</td>\n",
       "      <td>105</td>\n",
       "      <td>81</td>\n",
       "      <td>79</td>\n",
       "      <td>-4</td>\n",
       "      <td>8</td>\n",
       "      <td>61</td>\n",
       "      <td>302</td>\n",
       "      <td>8</td>\n",
       "      <td>9</td>\n",
       "      <td>92</td>\n",
       "    </tr>\n",
       "    <tr>\n",
       "      <th>2</th>\n",
       "      <td>3</td>\n",
       "      <td>boyfriend (with Social House)</td>\n",
       "      <td>Ariana Grande</td>\n",
       "      <td>dance pop</td>\n",
       "      <td>190</td>\n",
       "      <td>80</td>\n",
       "      <td>40</td>\n",
       "      <td>-4</td>\n",
       "      <td>16</td>\n",
       "      <td>70</td>\n",
       "      <td>186</td>\n",
       "      <td>12</td>\n",
       "      <td>46</td>\n",
       "      <td>85</td>\n",
       "    </tr>\n",
       "    <tr>\n",
       "      <th>3</th>\n",
       "      <td>4</td>\n",
       "      <td>Beautiful People (feat. Khalid)</td>\n",
       "      <td>Ed Sheeran</td>\n",
       "      <td>pop</td>\n",
       "      <td>93</td>\n",
       "      <td>65</td>\n",
       "      <td>64</td>\n",
       "      <td>-8</td>\n",
       "      <td>8</td>\n",
       "      <td>55</td>\n",
       "      <td>198</td>\n",
       "      <td>12</td>\n",
       "      <td>19</td>\n",
       "      <td>86</td>\n",
       "    </tr>\n",
       "    <tr>\n",
       "      <th>4</th>\n",
       "      <td>5</td>\n",
       "      <td>Goodbyes (Feat. Young Thug)</td>\n",
       "      <td>Post Malone</td>\n",
       "      <td>dfw rap</td>\n",
       "      <td>150</td>\n",
       "      <td>65</td>\n",
       "      <td>58</td>\n",
       "      <td>-4</td>\n",
       "      <td>11</td>\n",
       "      <td>18</td>\n",
       "      <td>175</td>\n",
       "      <td>45</td>\n",
       "      <td>7</td>\n",
       "      <td>94</td>\n",
       "    </tr>\n",
       "  </tbody>\n",
       "</table>\n",
       "</div>"
      ],
      "text/plain": [
       "   Track.Number                       Track.Name    Artist.Name  \\\n",
       "0             1                         Señorita   Shawn Mendes   \n",
       "1             2                            China       Anuel AA   \n",
       "2             3    boyfriend (with Social House)  Ariana Grande   \n",
       "3             4  Beautiful People (feat. Khalid)     Ed Sheeran   \n",
       "4             5      Goodbyes (Feat. Young Thug)    Post Malone   \n",
       "\n",
       "            Genre  Beats.Per.Minute  Energy  Danceability  Loudness..dB..  \\\n",
       "0    canadian pop               117      55            76              -6   \n",
       "1  reggaeton flow               105      81            79              -4   \n",
       "2       dance pop               190      80            40              -4   \n",
       "3             pop                93      65            64              -8   \n",
       "4         dfw rap               150      65            58              -4   \n",
       "\n",
       "   Liveness  Valence.  Length.  Acousticness..  Speechiness.  Popularity  \n",
       "0         8        75      191               4             3          79  \n",
       "1         8        61      302               8             9          92  \n",
       "2        16        70      186              12            46          85  \n",
       "3         8        55      198              12            19          86  \n",
       "4        11        18      175              45             7          94  "
      ]
     },
     "execution_count": 131,
     "metadata": {},
     "output_type": "execute_result"
    }
   ],
   "source": [
    "songs.head()"
   ]
  },
  {
   "cell_type": "markdown",
   "id": "fa5c04d7",
   "metadata": {
    "id": "fa5c04d7"
   },
   "source": [
    "### 3 EXPLORATORY ANALYSIS"
   ]
  },
  {
   "cell_type": "markdown",
   "id": "28a9007d",
   "metadata": {
    "id": "28a9007d"
   },
   "source": [
    "### 3.1 Categorical Data"
   ]
  },
  {
   "cell_type": "markdown",
   "id": "0dbd2479",
   "metadata": {
    "id": "0dbd2479"
   },
   "source": [
    "#### 1. Most popular Song of 2019? (Top Track)"
   ]
  },
  {
   "cell_type": "code",
   "execution_count": 102,
   "id": "a07cf32e",
   "metadata": {},
   "outputs": [
    {
     "data": {
      "text/html": [
       "<div>\n",
       "<style scoped>\n",
       "    .dataframe tbody tr th:only-of-type {\n",
       "        vertical-align: middle;\n",
       "    }\n",
       "\n",
       "    .dataframe tbody tr th {\n",
       "        vertical-align: top;\n",
       "    }\n",
       "\n",
       "    .dataframe thead th {\n",
       "        text-align: right;\n",
       "    }\n",
       "</style>\n",
       "<table border=\"1\" class=\"dataframe\">\n",
       "  <thead>\n",
       "    <tr style=\"text-align: right;\">\n",
       "      <th></th>\n",
       "      <th>Track.Name</th>\n",
       "      <th>Popularity</th>\n",
       "    </tr>\n",
       "  </thead>\n",
       "  <tbody>\n",
       "    <tr>\n",
       "      <th>9</th>\n",
       "      <td>bad guy</td>\n",
       "      <td>95</td>\n",
       "    </tr>\n",
       "    <tr>\n",
       "      <th>4</th>\n",
       "      <td>Goodbyes (Feat. Young Thug)</td>\n",
       "      <td>94</td>\n",
       "    </tr>\n",
       "    <tr>\n",
       "      <th>10</th>\n",
       "      <td>Callaita</td>\n",
       "      <td>93</td>\n",
       "    </tr>\n",
       "    <tr>\n",
       "      <th>1</th>\n",
       "      <td>China</td>\n",
       "      <td>92</td>\n",
       "    </tr>\n",
       "    <tr>\n",
       "      <th>6</th>\n",
       "      <td>Ransom</td>\n",
       "      <td>92</td>\n",
       "    </tr>\n",
       "    <tr>\n",
       "      <th>14</th>\n",
       "      <td>Money In The Grave (Drake ft. Rick Ross)</td>\n",
       "      <td>92</td>\n",
       "    </tr>\n",
       "    <tr>\n",
       "      <th>17</th>\n",
       "      <td>Sunflower - Spider-Man: Into the Spider-Verse</td>\n",
       "      <td>91</td>\n",
       "    </tr>\n",
       "    <tr>\n",
       "      <th>19</th>\n",
       "      <td>Truth Hurts</td>\n",
       "      <td>91</td>\n",
       "    </tr>\n",
       "    <tr>\n",
       "      <th>20</th>\n",
       "      <td>Piece Of Your Heart</td>\n",
       "      <td>91</td>\n",
       "    </tr>\n",
       "    <tr>\n",
       "      <th>21</th>\n",
       "      <td>Panini</td>\n",
       "      <td>91</td>\n",
       "    </tr>\n",
       "  </tbody>\n",
       "</table>\n",
       "</div>"
      ],
      "text/plain": [
       "                                       Track.Name  Popularity\n",
       "9                                         bad guy          95\n",
       "4                     Goodbyes (Feat. Young Thug)          94\n",
       "10                                       Callaita          93\n",
       "1                                           China          92\n",
       "6                                          Ransom          92\n",
       "14       Money In The Grave (Drake ft. Rick Ross)          92\n",
       "17  Sunflower - Spider-Man: Into the Spider-Verse          91\n",
       "19                                    Truth Hurts          91\n",
       "20                            Piece Of Your Heart          91\n",
       "21                                         Panini          91"
      ]
     },
     "execution_count": 102,
     "metadata": {},
     "output_type": "execute_result"
    }
   ],
   "source": [
    "# compute and plot most popular songs and their popularity\n",
    "\n",
    "top_songs = songs.nlargest(10, 'Popularity')\n",
    "\n",
    "top_songs[['Track.Name','Popularity']]"
   ]
  },
  {
   "cell_type": "code",
   "execution_count": 179,
   "id": "1a136a0d",
   "metadata": {},
   "outputs": [
    {
     "data": {
      "image/png": "[encoded data removed]",
      "text/plain": [
       "<Figure size 432x288 with 1 Axes>"
      ]
     },
     "metadata": {
      "needs_background": "light"
     },
     "output_type": "display_data"
    }
   ],
   "source": [
    "# compute and plot most popular songs and their popularity\n",
    "\n",
    "plt.figure()\n",
    "plt.barh(top_songs['Track.Name'], top_songs['Popularity'])\n",
    "plt.xlabel('Popularity')\n",
    "plt.ylabel('Track Name')\n",
    "plt.xlim(90,96)\n",
    "plt.title('Top Songs')\n",
    "plt.show()"
   ]
  },
  {
   "cell_type": "code",
   "execution_count": 180,
   "id": "a3bdaa35",
   "metadata": {},
   "outputs": [
    {
     "data": {
      "text/plain": [
       "[(90.0, 96.0),\n",
       " Text(0.5, 0, 'Popularity'),\n",
       " Text(0, 0.5, 'Track Name'),\n",
       " Text(0.5, 1.0, 'Top Songs')]"
      ]
     },
     "execution_count": 180,
     "metadata": {},
     "output_type": "execute_result"
    },
    {
     "data": {
      "image/png": "[encoded data removed]",
      "text/plain": [
       "<Figure size 432x288 with 1 Axes>"
      ]
     },
     "metadata": {
      "needs_background": "light"
     },
     "output_type": "display_data"
    }
   ],
   "source": [
    "fig, ax = plt.subplots()\n",
    "\n",
    "ax.barh( top_songs['Track.Name'], top_songs['Popularity'])\n",
    "labels = ax.get_xticklabels()\n",
    "plt.setp(labels, rotation=45, horizontalalignment='right')\n",
    "ax.set(xlim=[90, 96], xlabel='Popularity', ylabel='Track Name',\n",
    "       title='Top Songs')"
   ]
  },
  {
   "cell_type": "markdown",
   "id": "22ba1f0d",
   "metadata": {
    "id": "22ba1f0d"
   },
   "source": [
    "#### 2. Most popular Artists of 2019? (Top Artist)"
   ]
  },
  {
   "cell_type": "code",
   "execution_count": 103,
   "id": "d03bdfc4",
   "metadata": {},
   "outputs": [
    {
     "data": {
      "text/html": [
       "<div>\n",
       "<style scoped>\n",
       "    .dataframe tbody tr th:only-of-type {\n",
       "        vertical-align: middle;\n",
       "    }\n",
       "\n",
       "    .dataframe tbody tr th {\n",
       "        vertical-align: top;\n",
       "    }\n",
       "\n",
       "    .dataframe thead th {\n",
       "        text-align: right;\n",
       "    }\n",
       "</style>\n",
       "<table border=\"1\" class=\"dataframe\">\n",
       "  <thead>\n",
       "    <tr style=\"text-align: right;\">\n",
       "      <th></th>\n",
       "      <th>Artist.Name</th>\n",
       "      <th>Popularity</th>\n",
       "    </tr>\n",
       "  </thead>\n",
       "  <tbody>\n",
       "    <tr>\n",
       "      <th>9</th>\n",
       "      <td>Billie Eilish</td>\n",
       "      <td>95</td>\n",
       "    </tr>\n",
       "    <tr>\n",
       "      <th>4</th>\n",
       "      <td>Post Malone</td>\n",
       "      <td>94</td>\n",
       "    </tr>\n",
       "    <tr>\n",
       "      <th>10</th>\n",
       "      <td>Bad Bunny</td>\n",
       "      <td>93</td>\n",
       "    </tr>\n",
       "    <tr>\n",
       "      <th>1</th>\n",
       "      <td>Anuel AA</td>\n",
       "      <td>92</td>\n",
       "    </tr>\n",
       "    <tr>\n",
       "      <th>6</th>\n",
       "      <td>Lil Tecca</td>\n",
       "      <td>92</td>\n",
       "    </tr>\n",
       "    <tr>\n",
       "      <th>14</th>\n",
       "      <td>Drake</td>\n",
       "      <td>92</td>\n",
       "    </tr>\n",
       "    <tr>\n",
       "      <th>17</th>\n",
       "      <td>Post Malone</td>\n",
       "      <td>91</td>\n",
       "    </tr>\n",
       "    <tr>\n",
       "      <th>19</th>\n",
       "      <td>Lizzo</td>\n",
       "      <td>91</td>\n",
       "    </tr>\n",
       "    <tr>\n",
       "      <th>20</th>\n",
       "      <td>MEDUZA</td>\n",
       "      <td>91</td>\n",
       "    </tr>\n",
       "    <tr>\n",
       "      <th>21</th>\n",
       "      <td>Lil Nas X</td>\n",
       "      <td>91</td>\n",
       "    </tr>\n",
       "  </tbody>\n",
       "</table>\n",
       "</div>"
      ],
      "text/plain": [
       "      Artist.Name  Popularity\n",
       "9   Billie Eilish          95\n",
       "4     Post Malone          94\n",
       "10      Bad Bunny          93\n",
       "1        Anuel AA          92\n",
       "6       Lil Tecca          92\n",
       "14          Drake          92\n",
       "17    Post Malone          91\n",
       "19          Lizzo          91\n",
       "20         MEDUZA          91\n",
       "21      Lil Nas X          91"
      ]
     },
     "execution_count": 103,
     "metadata": {},
     "output_type": "execute_result"
    }
   ],
   "source": [
    "top_songs[['Artist.Name','Popularity']]\n"
   ]
  },
  {
   "cell_type": "code",
   "execution_count": 127,
   "id": "00cf2f02",
   "metadata": {
    "ExecuteTime": {
     "end_time": "2021-08-04T17:17:32.532312Z",
     "start_time": "2021-08-04T17:17:32.525311Z"
    },
    "id": "00cf2f02",
    "outputId": "d55ebaae-bd7c-4c20-d845-b9c58b574e7d"
   },
   "outputs": [
    {
     "data": {
      "image/png": "[encoded data removed]",
      "text/plain": [
       "<Figure size 432x288 with 1 Axes>"
      ]
     },
     "metadata": {
      "needs_background": "light"
     },
     "output_type": "display_data"
    }
   ],
   "source": [
    "# compute and plot most popular artists and their popularity\n",
    "\n",
    "plt.figure()\n",
    "plt.bar( top_songs['Artist.Name'], top_songs['Popularity'] )\n",
    "plt.xlabel('Artist')\n",
    "plt.ylabel('Popularity')\n",
    "plt.xticks(rotation=60)\n",
    "plt.ylim(90,97)\n",
    "plt.title('Top Artists')\n",
    "plt.show()"
   ]
  },
  {
   "cell_type": "markdown",
   "id": "55a7e15f",
   "metadata": {
    "id": "55a7e15f"
   },
   "source": [
    "#### 3. Most featured Artist in Top 50? (Top Artist)"
   ]
  },
  {
   "cell_type": "code",
   "execution_count": 152,
   "id": "966daedd",
   "metadata": {},
   "outputs": [
    {
     "data": {
      "text/plain": [
       "Ed Sheeran          4\n",
       "The Chainsmokers    2\n",
       "Marshmello          2\n",
       "Post Malone         2\n",
       "J Balvin            2\n",
       "Lil Nas X           2\n",
       "Sech                2\n",
       "Billie Eilish       2\n",
       "Shawn Mendes        2\n",
       "Ariana Grande       2\n",
       "Name: Artist.Name, dtype: int64"
      ]
     },
     "execution_count": 152,
     "metadata": {},
     "output_type": "execute_result"
    }
   ],
   "source": [
    "top_artist = songs['Artist.Name'].value_counts()\n",
    "\n",
    "top_artist10 = top_artist.head(10)\n",
    "\n",
    "top_artist10"
   ]
  },
  {
   "cell_type": "code",
   "execution_count": 178,
   "id": "e6493248",
   "metadata": {},
   "outputs": [
    {
     "data": {
      "image/png": "[encoded data removed]",
      "text/plain": [
       "<Figure size 432x288 with 1 Axes>"
      ]
     },
     "metadata": {
      "needs_background": "light"
     },
     "output_type": "display_data"
    }
   ],
   "source": [
    "# compute and plot most features artist and number of tracks\n",
    "\n",
    "plt.figure()\n",
    "plt.barh(top_artist10.index, top_artist10.values)\n",
    "plt.xlabel('Number of Tracks')\n",
    "plt.ylabel('Artist')\n",
    "plt.title('Most Featured Artists')\n",
    "\n",
    "plt.show()"
   ]
  },
  {
   "cell_type": "markdown",
   "id": "91c6af5c",
   "metadata": {
    "id": "91c6af5c"
   },
   "source": [
    "#### 4. Top Genres (Top Genres)"
   ]
  },
  {
   "cell_type": "code",
   "execution_count": 165,
   "id": "6845887c",
   "metadata": {},
   "outputs": [
    {
     "data": {
      "text/plain": [
       "dance pop           8\n",
       "pop                 7\n",
       "latin               5\n",
       "edm                 3\n",
       "canadian hip hop    3\n",
       "reggaeton           2\n",
       "canadian pop        2\n",
       "dfw rap             2\n",
       "electropop          2\n",
       "reggaeton flow      2\n",
       "Name: Genre, dtype: int64"
      ]
     },
     "execution_count": 165,
     "metadata": {},
     "output_type": "execute_result"
    }
   ],
   "source": [
    "top_genre = songs['Genre'].value_counts()\n",
    "\n",
    "top_genre10 = top_genre.head(10)\n",
    "\n",
    "top_genre10"
   ]
  },
  {
   "cell_type": "code",
   "execution_count": 171,
   "id": "46d516b9",
   "metadata": {
    "ExecuteTime": {
     "end_time": "2021-08-04T17:17:43.131944Z",
     "start_time": "2021-08-04T17:17:43.121060Z"
    },
    "id": "46d516b9",
    "outputId": "badd10a8-aa2a-4c6c-a002-bcddc1f606d8"
   },
   "outputs": [
    {
     "data": {
      "image/png": "[encoded data removed]",
      "text/plain": [
       "<Figure size 432x288 with 1 Axes>"
      ]
     },
     "metadata": {
      "needs_background": "light"
     },
     "output_type": "display_data"
    }
   ],
   "source": [
    "# compute and plot most popular genres by track number\n",
    "\n",
    "plt.figure()\n",
    "plt.bar(top_genre10.index, top_genre10.values)\n",
    "plt.xlabel('Genre')\n",
    "plt.ylabel('Number of Tracks')\n",
    "plt.xticks(rotation=80)\n",
    "plt.title('Most Popular Genre')\n",
    "\n",
    "plt.show()"
   ]
  },
  {
   "cell_type": "markdown",
   "id": "a5940774",
   "metadata": {
    "id": "a5940774"
   },
   "source": [
    "### Exploratory analysis summary"
   ]
  },
  {
   "cell_type": "markdown",
   "id": "810507f7",
   "metadata": {
    "id": "56a997a0"
   },
   "source": [
    "1. Most popular song of 2019 (Top Track) is Bad Guy with popularity of 95.\n",
    "2. The most popular artist by the popularity is Billie Eillish.\n",
    "3. Most featured Artist in Top 50 is Ed Sheran with 4 tracks.\n",
    "4. Most popular genre by track number is dance pop with 8 tracks.\n",
    "\n"
   ]
  }
 ],
 "metadata": {
  "colab": {
   "name": "02.07.21_tl_spotify.ipynb",
   "provenance": []
  },
  "kernelspec": {
   "display_name": "Python 3",
   "language": "python",
   "name": "python3"
  },
  "language_info": {
   "codemirror_mode": {
    "name": "ipython",
    "version": 3
   },
   "file_extension": ".py",
   "mimetype": "text/x-python",
   "name": "python",
   "nbconvert_exporter": "python",
   "pygments_lexer": "ipython3",
   "version": "3.8.8"
  },
  "toc": {
   "base_numbering": 1,
   "nav_menu": {},
   "number_sections": false,
   "sideBar": true,
   "skip_h1_title": false,
   "title_cell": "Table of Contents",
   "title_sidebar": "Contents",
   "toc_cell": false,
   "toc_position": {},
   "toc_section_display": true,
   "toc_window_display": false
  }
 },
 "nbformat": 4,
 "nbformat_minor": 5
}
